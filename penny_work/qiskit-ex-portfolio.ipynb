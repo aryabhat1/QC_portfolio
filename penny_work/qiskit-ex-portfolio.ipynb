{
 "cells": [
  {
   "cell_type": "code",
   "execution_count": 17,
   "metadata": {},
   "outputs": [],
   "source": [
    "from qiskit import Aer"
   ]
  },
  {
   "cell_type": "code",
   "execution_count": 18,
   "metadata": {},
   "outputs": [],
   "source": [
    "from qiskit.circuit.library import TwoLocal\n",
    "from qiskit.aqua import QuantumInstance\n",
    "from qiskit.finance.applications.ising import portfolio\n",
    "from qiskit.optimization.applications.ising.common import sample_most_likely\n",
    "from qiskit.finance.data_providers import RandomDataProvider\n",
    "from qiskit.aqua.algorithms import VQE, QAOA, NumPyMinimumEigensolver\n",
    "from qiskit.aqua.components.optimizers import COBYLA\n",
    "\n",
    "import numpy as np\n",
    "import matplotlib.pyplot as plt\n",
    "import datetime"
   ]
  },
  {
   "cell_type": "code",
   "execution_count": 37,
   "metadata": {},
   "outputs": [],
   "source": [
    "num_assets = 4\n",
    "\n",
    "stocks = [(\"TICKER%s\" % i) for i in range(num_assets)]\n",
    "data = RandomDataProvider(tickers=stocks, start=datetime.datetime(2016, 1, 1),\n",
    "                         end = datetime.datetime(2016, 1, 30)\n",
    "                         )\n",
    "data.run()\n",
    "mu = data.get_period_return_mean_vector()\n",
    "sigma = data.get_period_return_covariance_matrix()"
   ]
  },
  {
   "cell_type": "code",
   "execution_count": 38,
   "metadata": {},
   "outputs": [
    {
     "data": {
      "text/plain": [
       "array([[167.58358646,  -1.53006813, -12.27205628,  56.6302015 ],\n",
       "       [ -1.53006813,  14.73829649,  -0.55179862,   9.41338944],\n",
       "       [-12.27205628,  -0.55179862,  56.98355639, -51.02582236],\n",
       "       [ 56.6302015 ,   9.41338944, -51.02582236, 459.5770614 ]])"
      ]
     },
     "execution_count": 38,
     "metadata": {},
     "output_type": "execute_result"
    }
   ],
   "source": [
    "# print(stocks)\n",
    "# print(data)\n",
    "# mu\n",
    "# sigma*100000"
   ]
  },
  {
   "cell_type": "code",
   "execution_count": 39,
   "metadata": {},
   "outputs": [
    {
     "data": {
      "image/png": "[encoded data removed]",
      "text/plain": [
       "<Figure size 432x288 with 1 Axes>"
      ]
     },
     "metadata": {
      "needs_background": "light"
     },
     "output_type": "display_data"
    }
   ],
   "source": [
    "plt.imshow(sigma, interpolation='nearest')\n",
    "plt.show()"
   ]
  },
  {
   "cell_type": "code",
   "execution_count": 23,
   "metadata": {},
   "outputs": [
    {
     "name": "stdout",
     "output_type": "stream",
     "text": [
      "[[ 2.38473305e-04  6.19108846e-05  7.61177842e-05  7.22963439e-05]\n",
      " [ 6.19108846e-05  5.90317959e-04  9.77507330e-05 -4.55883432e-05]\n",
      " [ 7.61177842e-05  9.77507330e-05  2.47249984e-04 -5.61295463e-05]\n",
      " [ 7.22963439e-05 -4.55883432e-05 -5.61295463e-05  2.73247120e-03]]\n"
     ]
    }
   ],
   "source": [
    "# print(sigma)"
   ]
  },
  {
   "cell_type": "code",
   "execution_count": 24,
   "metadata": {},
   "outputs": [],
   "source": [
    "q = 0.5\n",
    "budget = num_assets//2\n",
    "penalty = num_assets\n",
    "\n",
    "qubitOp, offset= portfolio.get_operator(mu, sigma, q, budget, penalty)"
   ]
  },
  {
   "cell_type": "code",
   "execution_count": 32,
   "metadata": {},
   "outputs": [
    {
     "name": "stdout",
     "output_type": "stream",
     "text": [
      "Representation: paulis, qubits: 4, size: 10\n"
     ]
    }
   ],
   "source": [
    "print(qubitOp)"
   ]
  },
  {
   "cell_type": "code",
   "execution_count": 25,
   "metadata": {},
   "outputs": [],
   "source": [
    "def index_of_selection(i, num_assets):\n",
    "    s = \"{0:b}\".format(i).rjust(num_assets)\n",
    "    x = np.array([1 if s[i]=='1' else 0 for i in reversed(range(num_assets))])\n",
    "    return x\n",
    "\n",
    "def print_result(result):\n",
    "    selection = sample_most_likely(result.eigenstate)\n",
    "    value = portfolio.portfolio_value(selection, mu, sigma, q, budget, penalty)\n",
    "    print('Optimal: selection {}, value {:.4f}'.format(selection, value))\n",
    "    \n",
    "    eigenvector = result.eigenstate if isinstance(result.eigenstate, np.ndarray) else result.eigenstate.to_matrix()\n",
    "    probabilities = np.abs(eigenvector)**2\n",
    "    i_sorted = reversed(np.argsort(probabilities))\n",
    "    print('\\n------------Full result-------------')\n",
    "    print('selection\\tvalue\\t\\tprobability')\n",
    "    print('--------------------------------------')\n",
    "    for i in i_sorted:\n",
    "        x = index_of_selection(i, num_assets)\n",
    "        value = portfolio.portfolio_value(x, mu, sigma, q, budget, penalty)\n",
    "        probability = probabilities[i]\n",
    "        print('%10s\\t%.4f\\t\\t%.4f' %(x, value, probability))"
   ]
  },
  {
   "cell_type": "code",
   "execution_count": 26,
   "metadata": {},
   "outputs": [
    {
     "name": "stdout",
     "output_type": "stream",
     "text": [
      "Optimal: selection [0 1 0 1], value -0.0017\n",
      "\n",
      "------------Full result-------------\n",
      "selection\tvalue\t\tprobability\n",
      "--------------------------------------\n",
      " [0 1 0 1]\t-0.0017\t\t1.0000\n",
      " [1 1 1 1]\t16.0011\t\t0.0000\n",
      " [0 1 1 1]\t3.9986\t\t0.0000\n",
      " [1 0 1 1]\t4.0013\t\t0.0000\n",
      " [0 0 1 1]\t-0.0012\t\t0.0000\n",
      " [1 1 0 1]\t4.0008\t\t0.0000\n",
      " [1 0 0 1]\t0.0010\t\t0.0000\n",
      " [0 0 0 1]\t3.9987\t\t0.0000\n",
      " [1 1 1 0]\t4.0024\t\t0.0000\n",
      " [0 1 1 0]\t-0.0000\t\t0.0000\n",
      " [1 0 1 0]\t0.0026\t\t0.0000\n",
      " [0 0 1 0]\t4.0002\t\t0.0000\n",
      " [1 1 0 0]\t0.0021\t\t0.0000\n",
      " [0 1 0 0]\t3.9997\t\t0.0000\n",
      " [1 0 0 0]\t4.0023\t\t0.0000\n",
      " [0 0 0 0]\t16.0000\t\t0.0000\n"
     ]
    }
   ],
   "source": [
    "exact_eigensolver = NumPyMinimumEigensolver(qubitOp)\n",
    "result = exact_eigensolver.run()\n",
    "\n",
    "print_result(result)"
   ]
  },
  {
   "cell_type": "code",
   "execution_count": 31,
   "metadata": {},
   "outputs": [
    {
     "name": "stdout",
     "output_type": "stream",
     "text": [
      "Optimal: selection [0. 1. 0. 1.], value -0.0017\n",
      "\n",
      "------------Full result-------------\n",
      "selection\tvalue\t\tprobability\n",
      "--------------------------------------\n",
      " [0 1 0 1]\t-0.0017\t\t0.1669\n",
      " [0 0 1 1]\t-0.0012\t\t0.1668\n",
      " [0 1 1 0]\t-0.0000\t\t0.1667\n",
      " [1 0 0 1]\t0.0010\t\t0.1666\n",
      " [1 1 0 0]\t0.0021\t\t0.1665\n",
      " [1 0 1 0]\t0.0026\t\t0.1665\n",
      " [0 0 0 1]\t3.9987\t\t0.0000\n",
      " [0 0 0 0]\t16.0000\t\t0.0000\n",
      " [0 1 0 0]\t3.9997\t\t0.0000\n",
      " [0 1 1 1]\t3.9986\t\t0.0000\n",
      " [0 0 1 0]\t4.0002\t\t0.0000\n",
      " [1 1 1 1]\t16.0011\t\t0.0000\n",
      " [1 0 0 0]\t4.0023\t\t0.0000\n",
      " [1 1 1 0]\t4.0024\t\t0.0000\n",
      " [1 1 0 1]\t4.0008\t\t0.0000\n",
      " [1 0 1 1]\t4.0013\t\t0.0000\n"
     ]
    }
   ],
   "source": [
    "backend = Aer.get_backend('statevector_simulator')\n",
    "seed = 50\n",
    "\n",
    "cobyla = COBYLA()\n",
    "cobyla.set_options(maxiter=250)\n",
    "qaoa = QAOA(qubitOp, cobyla, 3)\n",
    "\n",
    "qaoa.random_seed = seed\n",
    "\n",
    "quantum_instance = QuantumInstance(backend=backend, seed_simulator=seed, seed_transpiler=seed)\n",
    "\n",
    "result = qaoa.run(quantum_instance)\n",
    "\n",
    "print_result(result)"
   ]
  },
  {
   "cell_type": "code",
   "execution_count": 28,
   "metadata": {},
   "outputs": [
    {
     "name": "stdout",
     "output_type": "stream",
     "text": [
      "Optimal: selection [0. 1. 0. 1.], value -0.0017\n",
      "\n",
      "------------Full result-------------\n",
      "selection\tvalue\t\tprobability\n",
      "--------------------------------------\n",
      " [0 1 0 1]\t-0.0017\t\t0.1669\n",
      " [0 0 1 1]\t-0.0012\t\t0.1668\n",
      " [0 1 1 0]\t-0.0000\t\t0.1667\n",
      " [1 0 0 1]\t0.0010\t\t0.1666\n",
      " [1 1 0 0]\t0.0021\t\t0.1665\n",
      " [1 0 1 0]\t0.0026\t\t0.1665\n",
      " [0 0 0 1]\t3.9987\t\t0.0000\n",
      " [0 0 0 0]\t16.0000\t\t0.0000\n",
      " [0 1 0 0]\t3.9997\t\t0.0000\n",
      " [0 1 1 1]\t3.9986\t\t0.0000\n",
      " [0 0 1 0]\t4.0002\t\t0.0000\n",
      " [1 1 1 1]\t16.0011\t\t0.0000\n",
      " [1 0 0 0]\t4.0023\t\t0.0000\n",
      " [1 1 1 0]\t4.0024\t\t0.0000\n",
      " [1 1 0 1]\t4.0008\t\t0.0000\n",
      " [1 0 1 1]\t4.0013\t\t0.0000\n"
     ]
    }
   ],
   "source": [
    "backend = Aer.get_backend('statevector_simulator')\n",
    "seed = 50\n",
    "\n",
    "cobyla = COBYLA()\n",
    "cobyla.set_options(maxiter=250)\n",
    "qaoa = QAOA(qubitOp, cobyla, 3)\n",
    "\n",
    "qaoa.random_seed = seed\n",
    "\n",
    "quantum_instance = QuantumInstance(backend=backend, seed_simulator=seed, seed_transpiler=seed)\n",
    "\n",
    "result = qaoa.run(quantum_instance)\n",
    "\n",
    "print_result(result)"
   ]
  },
  {
   "cell_type": "code",
   "execution_count": null,
   "metadata": {},
   "outputs": [],
   "source": []
  }
 ],
 "metadata": {
  "kernelspec": {
   "display_name": "Python 3",
   "language": "python",
   "name": "python3"
  },
  "language_info": {
   "codemirror_mode": {
    "name": "ipython",
    "version": 3
   },
   "file_extension": ".py",
   "mimetype": "text/x-python",
   "name": "python",
   "nbconvert_exporter": "python",
   "pygments_lexer": "ipython3",
   "version": "3.7.9"
  }
 },
 "nbformat": 4,
 "nbformat_minor": 4
}
