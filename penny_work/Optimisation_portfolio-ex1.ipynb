{
 "cells": [
  {
   "cell_type": "code",
   "execution_count": 3,
   "metadata": {},
   "outputs": [],
   "source": [
    "# The code is from lower part of 'https://pennylane.ai/qml/demos/tutorial_qaoa_intro.html'\n",
    "# To run the code in local laptop one needs to install pennylane using code <!pip install pennylane> in this notebook\n",
    "# "
   ]
  },
  {
   "cell_type": "code",
   "execution_count": 4,
   "metadata": {},
   "outputs": [],
   "source": [
    "import pennylane as qml"
   ]
  },
  {
   "cell_type": "code",
   "execution_count": 5,
   "metadata": {},
   "outputs": [],
   "source": [
    "dev = qml.device('default.qubit', wires=2)"
   ]
  },
  {
   "cell_type": "code",
   "execution_count": 6,
   "metadata": {},
   "outputs": [],
   "source": [
    "# QAOA Code\n",
    "from pennylane import qaoa\n",
    "import numpy as np\n",
    "from matplotlib import pyplot as plt\n",
    "import networkx as nx"
   ]
  },
  {
   "cell_type": "code",
   "execution_count": 7,
   "metadata": {},
   "outputs": [],
   "source": [
    "# code to read data from external sources. The file 'data.txt' has the data that needs to be fed to quantum computer.\n",
    "# This is not running.\n", "# Row 7 and 9 are errorneous.\n"
    "###################################################################################################################\n",
    "# edges = open('data.txt', \"r\")\n",
    "# print(edges.read())\n",
    "# with open(\"data.txt\", \"r\") as data_edges:\n",
    "#     edges = data_edges.read()\n",
    "    \n",
    "# elems = ([f.strip(\" {}'\") for f in edges.strip().split(',')])\n",
    "\n",
    "# edges_list = zip(elems[::2], elems[1::2])\n",
    "\n",
    "# edges = [(0, 1), (1, 2), (2, 0), (2, 3)]\n",
    "# # graph_list = nx.Graph(edges_list)\n",
    "# graph = nx.Graph(edges)\n",
    "# print(edges)\n",
    "# # print(edges_list)\n",
    "\n",
    "# nx.draw(graph, with_labels=True)\n",
    "# # nx.draw(graph_list, with_labels=True)\n",
    "# plt.show()"
   ]
  },
  {
   "cell_type": "code",
   "execution_count": 8,
   "metadata": {},
   "outputs": [
    {
     "data": {
      "image/png": "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\n",
      "text/plain": [
       "<Figure size 432x288 with 1 Axes>"
      ]
     },
     "metadata": {},
     "output_type": "display_data"
    }
   ],
   "source": [
    "edges = [(0, 1), (1, 2), (2, 0), (2, 3)]\n",
    "# # graph_list = nx.Graph(edges_list)\n",
    "graph = nx.Graph(edges)\n",
    "\n",
    "nx.draw(graph, with_labels=True)\n",
    "plt.show()"
   ]
  },
  {
   "cell_type": "code",
   "execution_count": 9,
   "metadata": {},
   "outputs": [],
   "source": [
    "# with open(\"data1.txt\", encoding='utf-8') as data_edges:\n",
    "#     edges = data_edges.read()\n",
    "\n",
    "# print(edges)\n",
    "# elems = ([f.strip(\" {}'\") for f in edges.strip().split(',')])\n",
    "\n",
    "# print(elems)\n",
    "# edges_list = zip(elems[::2], elems[1::2])\n",
    "\n",
    "# print(edges_list)\n",
    "# graph_list = nx.Graph(edges_list)\n",
    "\n",
    "# nx.draw(graph_list, with_labels=True)\n",
    "# plt.show()"
   ]
  },
  {
   "cell_type": "code",
   "execution_count": 10,
   "metadata": {},
   "outputs": [
    {
     "name": "stdout",
     "output_type": "stream",
     "text": [
      "Cost hamiltonian:  (0.75) [Z0 Z1]\n",
      "+ (0.5) [Z0]\n",
      "+ (0.5) [Z1]\n",
      "+ (0.75) [Z0 Z2]\n",
      "+ (1.25) [Z2]\n",
      "+ (0.75) [Z1 Z2]\n",
      "+ (0.75) [Z2 Z3]\n",
      "+ (-0.25) [Z3]\n",
      "Mixer Hamiltonian:  (1) [X0]\n",
      "+ (1) [X1]\n",
      "+ (1) [X2]\n",
      "+ (1) [X3]\n"
     ]
    }
   ],
   "source": [
    "# cost_h, mixer_h = qaoa.min_vertex_cover(graph, constrained=False)\n",
    "\n",
    "cost_h, mixer_h = qaoa.min_vertex_cover(graph, constrained=False)\n",
    "print(\"Cost hamiltonian: \", cost_h)\n",
    "print(\"Mixer Hamiltonian: \", mixer_h)"
   ]
  },
  {
   "cell_type": "code",
   "execution_count": 11,
   "metadata": {},
   "outputs": [],
   "source": [
    "def qaoa_layer(gamma, alpha):\n",
    "    qaoa.cost_layer(gamma, cost_h)\n",
    "    qaoa.mixer_layer(alpha, mixer_h)"
   ]
  },
  {
   "cell_type": "code",
   "execution_count": 12,
   "metadata": {},
   "outputs": [],
   "source": [
    "wires = range(4)\n",
    "depth = 2\n",
    "\n",
    "def circuit(params, **kwargs):\n",
    "    for w in wires:\n",
    "        qml.Hadamard(wires=w)\n",
    "    qml.layer(qaoa_layer, depth, params[0], params[1])"
   ]
  },
  {
   "cell_type": "code",
   "execution_count": 13,
   "metadata": {},
   "outputs": [],
   "source": [
    "dev = qml.device(\"qulacs.simulator\", wires=wires)\n",
    "cost_function = qml.ExpvalCost(circuit, cost_h, dev)"
   ]
  },
  {
   "cell_type": "code",
   "execution_count": 14,
   "metadata": {},
   "outputs": [],
   "source": [
    "optimizer = qml.GradientDescentOptimizer()\n",
    "steps = 20\n",
    "params = [[0.5, 0.5], [0.5, 0.5]]"
   ]
  },
  {
   "cell_type": "code",
   "execution_count": 15,
   "metadata": {},
   "outputs": [
    {
     "name": "stdout",
     "output_type": "stream",
     "text": [
      "Optimal Parameters\n",
      "[[0.6252800322400491, 0.9113192880743045], [0.5180154423607389, 0.824691517132233]]\n"
     ]
    }
   ],
   "source": [
    "for i in range(steps):\n",
    "    params = optimizer.step(cost_function, params)\n",
    "    \n",
    "print(\"Optimal Parameters\")\n",
    "print(params)"
   ]
  },
  {
   "cell_type": "code",
   "execution_count": 16,
   "metadata": {},
   "outputs": [],
   "source": [
    "@qml.qnode(dev)\n",
    "def probability_circuit(gamma, alpha):\n",
    "    circuit([gamma, alpha])\n",
    "    return qml.probs(wires=wires)\n",
    "\n",
    "probs = probability_circuit(params[0], params[1])"
   ]
  },
  {
   "cell_type": "code",
   "execution_count": 17,
   "metadata": {},
   "outputs": [
    {
     "data": {
      "image/png": "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\n",
      "text/plain": [
       "<Figure size 576x396 with 1 Axes>"
      ]
     },
     "metadata": {},
     "output_type": "display_data"
    }
   ],
   "source": [
    "plt.style.use(\"seaborn\")\n",
    "plt.bar(range(2**len(wires)), probs)\n",
    "plt.show()"
   ]
  },
  {
   "cell_type": "code",
   "execution_count": null,
   "metadata": {},
   "outputs": [],
   "source": []
  }
 ],
 "metadata": {
  "kernelspec": {
   "display_name": "Python 3",
   "language": "python",
   "name": "python3"
  },
  "language_info": {
   "codemirror_mode": {
    "name": "ipython",
    "version": 3
   },
   "file_extension": ".py",
   "mimetype": "text/x-python",
   "name": "python",
   "nbconvert_exporter": "python",
   "pygments_lexer": "ipython3",
   "version": "3.7.9"
  }
 },
 "nbformat": 4,
 "nbformat_minor": 4
}
