{
 "cells": [
  {
   "cell_type": "code",
   "execution_count": 1,
   "metadata": {},
   "outputs": [],
   "source": [
    "import pennylane as qml\n",
    "from pennylane import qchem\n",
    "from pennylane import numpy as np"
   ]
  },
  {
   "cell_type": "code",
   "execution_count": 2,
   "metadata": {},
   "outputs": [],
   "source": [
    "# !pip install pennylane-qchem\n"
   ]
  },
  {
   "cell_type": "code",
   "execution_count": 3,
   "metadata": {},
   "outputs": [],
   "source": [
    "geometry = 'h2.xyz'"
   ]
  },
  {
   "cell_type": "code",
   "execution_count": 4,
   "metadata": {},
   "outputs": [],
   "source": [
    "charge = 0\n",
    "multiplicity = 1\n",
    "basis_set = 'sto-3g'"
   ]
  },
  {
   "cell_type": "code",
   "execution_count": 5,
   "metadata": {},
   "outputs": [],
   "source": [
    "name = 'h2'"
   ]
  },
  {
   "cell_type": "code",
   "execution_count": 8,
   "metadata": {},
   "outputs": [
    {
     "name": "stdout",
     "output_type": "stream",
     "text": [
      "Number of Qubits:  4\n",
      "Hamiltonian is:  (-0.04207897647782188) [I0]\n",
      "+ (0.17771287465139934) [Z0]\n",
      "+ (0.1777128746513993) [Z1]\n",
      "+ (-0.24274280513140484) [Z2]\n",
      "+ (-0.24274280513140484) [Z3]\n",
      "+ (0.17059738328801055) [Z0 Z1]\n",
      "+ (0.04475014401535161) [Y0 X1 X2 Y3]\n",
      "+ (-0.04475014401535161) [Y0 Y1 X2 X3]\n",
      "+ (-0.04475014401535161) [X0 X1 Y2 Y3]\n",
      "+ (0.04475014401535161) [X0 Y1 Y2 X3]\n",
      "+ (0.12293305056183801) [Z0 Z2]\n",
      "+ (0.1676831945771896) [Z0 Z3]\n",
      "+ (0.1676831945771896) [Z1 Z2]\n",
      "+ (0.12293305056183801) [Z1 Z3]\n",
      "+ (0.176276408043196) [Z2 Z3]\n"
     ]
    }
   ],
   "source": [
    "h,qubits = qchem.molecular_hamiltonian(\n",
    "    name,\n",
    "    geometry,\n",
    "    charge=charge,\n",
    "    mult=multiplicity,\n",
    "    basis=basis_set,\n",
    "    active_electrons=2,\n",
    "    active_orbitals=2,\n",
    "    mapping='jordan_wigner'\n",
    ")\n",
    "\n",
    "print('Number of Qubits: ', qubits)\n",
    "print('Hamiltonian is: ', h)"
   ]
  },
  {
   "cell_type": "code",
   "execution_count": 7,
   "metadata": {},
   "outputs": [],
   "source": [
    "# from pennylane import qchem\n",
    "\n",
    "# h, qubits = qchem.molecular_hamiltonian(\n",
    "#     name='h2',\n",
    "#     geo_file='h2.xyz',\n",
    "#     charge=0,\n",
    "#     mult=1,\n",
    "#     basis='sto-3g',\n",
    "#     active_electrons=2,\n",
    "#     active_orbitals=2\n",
    "# )"
   ]
  },
  {
   "cell_type": "code",
   "execution_count": 9,
   "metadata": {},
   "outputs": [],
   "source": [
    "dev = qml.device('default.qubit', wires=qubits)"
   ]
  },
  {
   "cell_type": "code",
   "execution_count": 10,
   "metadata": {},
   "outputs": [],
   "source": [
    "def circuit(params, wires):\n",
    "    qml.BasisState(np.array([1, 1, 0, 0]), wires=wires)\n",
    "    for i in wires:\n",
    "        qml.Rot(*params[i], wires=i)\n",
    "    qml.CNOT(wires=[2, 3])\n",
    "    qml.CNOT(wires=[2, 0])\n",
    "    qml.CNOT(wires=[3, 1])"
   ]
  },
  {
   "cell_type": "code",
   "execution_count": 11,
   "metadata": {},
   "outputs": [],
   "source": [
    "cost_fn = qml.ExpvalCost(circuit, h, dev)"
   ]
  },
  {
   "cell_type": "code",
   "execution_count": 12,
   "metadata": {},
   "outputs": [
    {
     "name": "stdout",
     "output_type": "stream",
     "text": [
      "[[ 5.54193389  1.25713095  3.07479606]\n",
      " [ 7.03997361  5.86710646 -3.07020901]\n",
      " [ 2.98479079 -0.47550269 -0.32427159]\n",
      " [ 1.28993324  0.45252622  4.56873497]]\n"
     ]
    }
   ],
   "source": [
    "opt = qml.GradientDescentOptimizer(stepsize=0.4)\n",
    "np.random.seed(0)\n",
    "params = np.random.normal(0, np.pi, (qubits, 3))\n",
    "print(params)"
   ]
  },
  {
   "cell_type": "code",
   "execution_count": 13,
   "metadata": {},
   "outputs": [],
   "source": [
    "max_iterations = 200\n",
    "conv_tol = 1e-06"
   ]
  },
  {
   "cell_type": "code",
   "execution_count": 14,
   "metadata": {},
   "outputs": [
    {
     "name": "stdout",
     "output_type": "stream",
     "text": [
      "Iterations= 0, Energy= -0.88179557 Ha\n",
      "Iterations= 20, Energy= -1.13380513 Ha\n",
      "Iterations= 40, Energy= -1.13558756 Ha\n",
      "Iterations= 60, Energy= -1.13585794 Ha\n",
      "Iterations= 80, Energy= -1.13600617 Ha\n",
      "Iterations= 100, Energy= -1.13608848 Ha\n",
      "Iterations= 120, Energy= -1.13613394 Ha\n",
      "\n",
      "Final convergence parameter: = 0.00000099 Ha\n",
      "Final value of the ground-state energy = -1.13615709 Ha\n",
      "Accuracy with respect to the FCI energy: 0.00003237 Ha (0.02031093 kcal/mol)\n",
      "\n",
      "Final circuit parameters = \n",
      " [[ 5.54193389e+00  1.30219523e-08  3.07479606e+00]\n",
      " [ 7.03997361e+00  6.28318530e+00 -3.07020901e+00]\n",
      " [ 2.98479079e+00 -2.09540998e-01 -4.16893297e-02]\n",
      " [ 1.28993324e+00  1.30914606e-12  4.56873497e+00]]\n"
     ]
    }
   ],
   "source": [
    "prev_energy = cost_fn(params)\n",
    "for n in range(max_iterations):\n",
    "    params = opt.step(cost_fn, params)\n",
    "    energy = cost_fn(params)\n",
    "    conv = np.abs(energy - prev_energy)\n",
    "    \n",
    "    if n % 20 == 0:\n",
    "        print('Iterations= {:}, Energy= {:.8f} Ha'.format(n, energy))\n",
    "        \n",
    "    if conv <= conv_tol:\n",
    "        break\n",
    "        \n",
    "    prev_energy = energy\n",
    "    \n",
    "print()\n",
    "print('Final convergence parameter: = {:.8f} Ha'.format(conv))\n",
    "print('Final value of the ground-state energy = {:.8f} Ha'.format(energy))\n",
    "print('Accuracy with respect to the FCI energy: {:.8f} Ha ({:.8f} kcal/mol)'.format(\n",
    "    np.abs(energy - (-1.136189454088)), np.abs(energy - (-1.136189454088))*627.503\n",
    "    )\n",
    ")\n",
    "print()\n",
    "print('Final circuit parameters = \\n', params)"
   ]
  },
  {
   "cell_type": "code",
   "execution_count": null,
   "metadata": {},
   "outputs": [],
   "source": []
  }
 ],
 "metadata": {
  "kernelspec": {
   "display_name": "Python 3",
   "language": "python",
   "name": "python3"
  },
  "language_info": {
   "codemirror_mode": {
    "name": "ipython",
    "version": 3
   },
   "file_extension": ".py",
   "mimetype": "text/x-python",
   "name": "python",
   "nbconvert_exporter": "python",
   "pygments_lexer": "ipython3",
   "version": "3.7.9"
  }
 },
 "nbformat": 4,
 "nbformat_minor": 4
}
