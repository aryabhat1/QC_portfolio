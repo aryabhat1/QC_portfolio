{
 "cells": [
  {
   "cell_type": "code",
   "execution_count": 1,
   "metadata": {},
   "outputs": [],
   "source": [
    "# https://towardsdatascience.com/automating-portfolio-optimization-using-python-9f344b9380b9\n",
    "# Mean varieance analysis\n",
    "# What is the best method of carrying portfolio analysis, what other methods are available"
   ]
  },
  {
   "cell_type": "code",
   "execution_count": 2,
   "metadata": {},
   "outputs": [],
   "source": [
    "#Importing all required libraries\n",
    "#Created by Sanket Karve\n",
    "import matplotlib.pyplot as plt\n",
    "import numpy as np\n",
    "import pandas as pd\n",
    "import pandas_datareader as web\n",
    "from matplotlib.ticker import FuncFormatter"
   ]
  },
  {
   "cell_type": "code",
   "execution_count": 17,
   "metadata": {},
   "outputs": [],
   "source": [
    "from pypfopt.efficient_frontier import EfficientFrontier\n",
    "from pypfopt import risk_models\n",
    "from pypfopt import expected_returns\n",
    "from pypfopt.cla import CLA\n",
    "# from pypfopt.cla import CLA\n",
    "from pypfopt import discrete_allocation\n",
    "from pypfopt import plotting\n",
    "from matplotlib.ticker import FuncFormatter"
   ]
  },
  {
   "cell_type": "code",
   "execution_count": null,
   "metadata": {},
   "outputs": [],
   "source": []
  },
  {
   "cell_type": "code",
   "execution_count": 18,
   "metadata": {},
   "outputs": [
    {
     "data": {
      "text/html": [
       "<div>\n",
       "<style scoped>\n",
       "    .dataframe tbody tr th:only-of-type {\n",
       "        vertical-align: middle;\n",
       "    }\n",
       "\n",
       "    .dataframe tbody tr th {\n",
       "        vertical-align: top;\n",
       "    }\n",
       "\n",
       "    .dataframe thead th {\n",
       "        text-align: right;\n",
       "    }\n",
       "</style>\n",
       "<table border=\"1\" class=\"dataframe\">\n",
       "  <thead>\n",
       "    <tr style=\"text-align: right;\">\n",
       "      <th></th>\n",
       "      <th>BSX</th>\n",
       "      <th>AES</th>\n",
       "      <th>BRK-B</th>\n",
       "      <th>SEE</th>\n",
       "      <th>QQQ</th>\n",
       "      <th>SPY</th>\n",
       "    </tr>\n",
       "    <tr>\n",
       "      <th>Date</th>\n",
       "      <th></th>\n",
       "      <th></th>\n",
       "      <th></th>\n",
       "      <th></th>\n",
       "      <th></th>\n",
       "      <th></th>\n",
       "    </tr>\n",
       "  </thead>\n",
       "  <tbody>\n",
       "    <tr>\n",
       "      <th>2014-12-31</th>\n",
       "      <td>13.25</td>\n",
       "      <td>10.952408</td>\n",
       "      <td>150.149994</td>\n",
       "      <td>38.902077</td>\n",
       "      <td>97.966927</td>\n",
       "      <td>182.844467</td>\n",
       "    </tr>\n",
       "    <tr>\n",
       "      <th>2015-01-02</th>\n",
       "      <td>13.22</td>\n",
       "      <td>10.896731</td>\n",
       "      <td>149.169998</td>\n",
       "      <td>39.149628</td>\n",
       "      <td>97.672798</td>\n",
       "      <td>182.746567</td>\n",
       "    </tr>\n",
       "    <tr>\n",
       "      <th>2015-01-05</th>\n",
       "      <td>13.81</td>\n",
       "      <td>10.586535</td>\n",
       "      <td>147.000000</td>\n",
       "      <td>38.590351</td>\n",
       "      <td>96.240067</td>\n",
       "      <td>179.446259</td>\n",
       "    </tr>\n",
       "    <tr>\n",
       "      <th>2015-01-06</th>\n",
       "      <td>13.70</td>\n",
       "      <td>10.347920</td>\n",
       "      <td>146.839996</td>\n",
       "      <td>38.792053</td>\n",
       "      <td>94.949654</td>\n",
       "      <td>177.756073</td>\n",
       "    </tr>\n",
       "    <tr>\n",
       "      <th>2015-01-07</th>\n",
       "      <td>14.03</td>\n",
       "      <td>10.363826</td>\n",
       "      <td>148.880005</td>\n",
       "      <td>38.847069</td>\n",
       "      <td>96.173660</td>\n",
       "      <td>179.971115</td>\n",
       "    </tr>\n",
       "  </tbody>\n",
       "</table>\n",
       "</div>"
      ],
      "text/plain": [
       "              BSX        AES       BRK-B        SEE        QQQ         SPY\n",
       "Date                                                                      \n",
       "2014-12-31  13.25  10.952408  150.149994  38.902077  97.966927  182.844467\n",
       "2015-01-02  13.22  10.896731  149.169998  39.149628  97.672798  182.746567\n",
       "2015-01-05  13.81  10.586535  147.000000  38.590351  96.240067  179.446259\n",
       "2015-01-06  13.70  10.347920  146.839996  38.792053  94.949654  177.756073\n",
       "2015-01-07  14.03  10.363826  148.880005  38.847069  96.173660  179.971115"
      ]
     },
     "execution_count": 18,
     "metadata": {},
     "output_type": "execute_result"
    }
   ],
   "source": [
    "# Tickers from Boston Scientific, Berkshire Hathway, Invesco Trust, S&P Index Fund, AES Corp., and Sealed Air Corp\n",
    "# Adjusted close value\n",
    "tickers = ['BSX', 'AES', 'BRK-B', 'SEE', 'QQQ', 'SPY']\n",
    "thelen = len(tickers)\n",
    "price_data = []\n",
    "\n",
    "for ticker in range(thelen):\n",
    "    prices = web.DataReader(tickers[ticker], start='2015-01-01', end='2020-06-06', data_source='yahoo')\n",
    "    price_data.append(prices.assign(ticker=ticker)[['Adj Close']])\n",
    "    \n",
    "df_stocks = pd.concat(price_data, axis=1)\n",
    "df_stocks.columns=tickers\n",
    "df_stocks.head()"
   ]
  },
  {
   "cell_type": "code",
   "execution_count": 19,
   "metadata": {},
   "outputs": [
    {
     "name": "stdout",
     "output_type": "stream",
     "text": [
      "BSX      0\n",
      "AES      0\n",
      "BRK-B    0\n",
      "SEE      0\n",
      "QQQ      0\n",
      "SPY      0\n",
      "dtype: int64\n"
     ]
    }
   ],
   "source": [
    "nullin_df = pd.DataFrame(df_stocks, columns=tickers)\n",
    "print(nullin_df.isnull().sum())"
   ]
  },
  {
   "cell_type": "code",
   "execution_count": 36,
   "metadata": {},
   "outputs": [
    {
     "data": {
      "text/plain": [
       "BSX      0.219392\n",
       "AES      0.045931\n",
       "BRK-B    0.054952\n",
       "SEE     -0.019985\n",
       "QQQ      0.178689\n",
       "dtype: float64"
      ]
     },
     "execution_count": 36,
     "metadata": {},
     "output_type": "execute_result"
    }
   ],
   "source": [
    "# Annualised return\n",
    "mu = expected_returns.mean_historical_return(df_stocks)\n",
    "\n",
    "# Sample Variance Portfolio\n",
    "Sigma = risk_models.sample_cov(df_stocks)\n",
    "mu.head()\n"
   ]
  },
  {
   "cell_type": "code",
   "execution_count": 33,
   "metadata": {},
   "outputs": [
    {
     "data": {
      "text/html": [
       "<div>\n",
       "<style scoped>\n",
       "    .dataframe tbody tr th:only-of-type {\n",
       "        vertical-align: middle;\n",
       "    }\n",
       "\n",
       "    .dataframe tbody tr th {\n",
       "        vertical-align: top;\n",
       "    }\n",
       "\n",
       "    .dataframe thead th {\n",
       "        text-align: right;\n",
       "    }\n",
       "</style>\n",
       "<table border=\"1\" class=\"dataframe\">\n",
       "  <thead>\n",
       "    <tr style=\"text-align: right;\">\n",
       "      <th></th>\n",
       "      <th>BSX</th>\n",
       "      <th>AES</th>\n",
       "      <th>BRK-B</th>\n",
       "      <th>SEE</th>\n",
       "      <th>QQQ</th>\n",
       "      <th>SPY</th>\n",
       "    </tr>\n",
       "  </thead>\n",
       "  <tbody>\n",
       "    <tr>\n",
       "      <th>BSX</th>\n",
       "      <td>0.083120</td>\n",
       "      <td>0.040805</td>\n",
       "      <td>0.032322</td>\n",
       "      <td>0.037851</td>\n",
       "      <td>0.038963</td>\n",
       "      <td>0.035796</td>\n",
       "    </tr>\n",
       "    <tr>\n",
       "      <th>AES</th>\n",
       "      <td>0.040805</td>\n",
       "      <td>0.107820</td>\n",
       "      <td>0.033929</td>\n",
       "      <td>0.051781</td>\n",
       "      <td>0.032859</td>\n",
       "      <td>0.034929</td>\n",
       "    </tr>\n",
       "    <tr>\n",
       "      <th>BRK-B</th>\n",
       "      <td>0.032322</td>\n",
       "      <td>0.033929</td>\n",
       "      <td>0.042899</td>\n",
       "      <td>0.030697</td>\n",
       "      <td>0.032195</td>\n",
       "      <td>0.032527</td>\n",
       "    </tr>\n",
       "    <tr>\n",
       "      <th>SEE</th>\n",
       "      <td>0.037851</td>\n",
       "      <td>0.051781</td>\n",
       "      <td>0.030697</td>\n",
       "      <td>0.099864</td>\n",
       "      <td>0.027641</td>\n",
       "      <td>0.029476</td>\n",
       "    </tr>\n",
       "    <tr>\n",
       "      <th>QQQ</th>\n",
       "      <td>0.038963</td>\n",
       "      <td>0.032859</td>\n",
       "      <td>0.032195</td>\n",
       "      <td>0.027641</td>\n",
       "      <td>0.044236</td>\n",
       "      <td>0.036097</td>\n",
       "    </tr>\n",
       "  </tbody>\n",
       "</table>\n",
       "</div>"
      ],
      "text/plain": [
       "            BSX       AES     BRK-B       SEE       QQQ       SPY\n",
       "BSX    0.083120  0.040805  0.032322  0.037851  0.038963  0.035796\n",
       "AES    0.040805  0.107820  0.033929  0.051781  0.032859  0.034929\n",
       "BRK-B  0.032322  0.033929  0.042899  0.030697  0.032195  0.032527\n",
       "SEE    0.037851  0.051781  0.030697  0.099864  0.027641  0.029476\n",
       "QQQ    0.038963  0.032859  0.032195  0.027641  0.044236  0.036097"
      ]
     },
     "execution_count": 33,
     "metadata": {},
     "output_type": "execute_result"
    }
   ],
   "source": [
    "Sigma.head()"
   ]
  },
  {
   "cell_type": "code",
   "execution_count": 21,
   "metadata": {},
   "outputs": [
    {
     "name": "stdout",
     "output_type": "stream",
     "text": [
      "OrderedDict([('BSX', 0.82969), ('AES', -0.14794), ('BRK-B', -0.92165), ('SEE', -0.46673), ('QQQ', 1.0), ('SPY', 0.70663)])\n"
     ]
    }
   ],
   "source": [
    "ef = EfficientFrontier(mu, Sigma, weight_bounds=(-1, 1))\n",
    "sharpe_pfolio=ef.max_sharpe()\n",
    "sharpe_pwt=ef.clean_weights()\n",
    "print(sharpe_pwt)"
   ]
  },
  {
   "cell_type": "code",
   "execution_count": 37,
   "metadata": {},
   "outputs": [
    {
     "name": "stdout",
     "output_type": "stream",
     "text": [
      "OrderedDict([('BSX', 0.8296922846767448), ('AES', -0.1479446896133863), ('BRK-B', -0.9216466615631314), ('SEE', -0.4667327623046504), ('QQQ', 1.0), ('SPY', 0.7066318288044233)])\n"
     ]
    }
   ],
   "source": [
    "print(sharpe_pfolio)"
   ]
  },
  {
   "cell_type": "code",
   "execution_count": 22,
   "metadata": {},
   "outputs": [
    {
     "name": "stdout",
     "output_type": "stream",
     "text": [
      "OrderedDict([('BSX', 0.0), ('AES', 0.0), ('BRK-B', 0.08013), ('SEE', 0.05241), ('QQQ', 0.0), ('SPY', 0.86746)])\n"
     ]
    }
   ],
   "source": [
    "ef1 = EfficientFrontier(mu, Sigma, weight_bounds=(0, 1))\n",
    "minvol = ef1.min_volatility()\n",
    "minvol_pwt = ef1.clean_weights()\n",
    "# print(sharpe_pwt)\n",
    "print(minvol_pwt)\n"
   ]
  },
  {
   "cell_type": "code",
   "execution_count": 38,
   "metadata": {},
   "outputs": [
    {
     "name": "stdout",
     "output_type": "stream",
     "text": [
      "{'BRK-B': 4, 'SEE': 16, 'SPY': 27}\n",
      "Leftover Fund value in$ after building minimum volatility portfolio is $125.56\n"
     ]
    },
    {
     "data": {
      "text/plain": [
       "BSX       38.830002\n",
       "AES       13.971002\n",
       "BRK-B    200.660004\n",
       "SEE       34.869690\n",
       "QQQ      238.840988\n",
       "Name: 2020-06-05 00:00:00, dtype: float64"
      ]
     },
     "execution_count": 38,
     "metadata": {},
     "output_type": "execute_result"
    }
   ],
   "source": [
    "latest_prices = discrete_allocation.get_latest_prices(df_stocks)\n",
    "\n",
    "# Min volatility Portfolio Allocation=10000\n",
    "allocation_minv, rem_minv = discrete_allocation.DiscreteAllocation(minvol_pwt, latest_prices,total_portfolio_value=10000).lp_portfolio()\n",
    "print(allocation_minv)\n",
    "# print(rem_minv)\n",
    "print(\"Leftover Fund value in$ after building minimum volatility portfolio is ${:.2f}\".format(rem_minv))\n",
    "latest_prices.head()"
   ]
  },
  {
   "cell_type": "code",
   "execution_count": 29,
   "metadata": {},
   "outputs": [
    {
     "name": "stdout",
     "output_type": "stream",
     "text": [
      "{'BSX': 5, 'QQQ': 2, 'SPY': 1, 'AES': -8, 'BRK-B': -5, 'SEE': -12}\n",
      "Leftover Fund value in$ after building Max Sharpe ratio portfolio is $15.65\n"
     ]
    }
   ],
   "source": [
    "#Max Sharpe Ratio Portfolio Allocation $10000\n",
    "latest_prices1 = discrete_allocation.get_latest_prices(df_stocks)\n",
    "allocation_shp, rem_shp = discrete_allocation.DiscreteAllocation(sharpe_pwt, latest_prices1, total_portfolio_value=1000).lp_portfolio() \n",
    "print(allocation_shp)\n",
    "print(\"Leftover Fund value in$ after building Max Sharpe ratio portfolio is ${:.2f}\".format(rem_shp))\n",
    "\n",
    "#allocation using integer programming via PyPortfolioOpt User Guide\n",
    "#Alex Putkov code used for guidance and reference in applying integer programming"
   ]
  },
  {
   "cell_type": "code",
   "execution_count": null,
   "metadata": {},
   "outputs": [],
   "source": []
  }
 ],
 "metadata": {
  "kernelspec": {
   "display_name": "Python 3",
   "language": "python",
   "name": "python3"
  },
  "language_info": {
   "codemirror_mode": {
    "name": "ipython",
    "version": 3
   },
   "file_extension": ".py",
   "mimetype": "text/x-python",
   "name": "python",
   "nbconvert_exporter": "python",
   "pygments_lexer": "ipython3",
   "version": "3.7.9"
  }
 },
 "nbformat": 4,
 "nbformat_minor": 4
}
